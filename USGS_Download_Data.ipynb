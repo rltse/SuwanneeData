{
 "cells": [
  {
   "cell_type": "code",
   "execution_count": 57,
   "id": "dafc20b2-99b6-4461-bb6d-eb1ed24f55d6",
   "metadata": {
    "tags": []
   },
   "outputs": [],
   "source": [
    "import pandas as pd\n",
    "import numpy as np\n",
    "import requests\n",
    "import lxml.html as lh\n",
    "import urllib\n",
    "import os\n",
    "from bs4 import BeautifulSoup\n",
    "from matplotlib import pyplot as plt\n",
    "import matplotlib"
   ]
  },
  {
   "cell_type": "markdown",
   "id": "8d6be88e-7338-4632-8191-1d30a55284b6",
   "metadata": {
    "tags": []
   },
   "source": [
    "### Inside the quotations in the box below, input the directory where you have saved the \"SuwData\" and this script file."
   ]
  },
  {
   "cell_type": "code",
   "execution_count": 58,
   "id": "9fb615e9-a613-4dc2-a4f6-a7d4b52bacb6",
   "metadata": {},
   "outputs": [],
   "source": [
    "directory = \"C:/Users/robert.taylor/Documents/\""
   ]
  },
  {
   "cell_type": "markdown",
   "id": "bcdff540-00e9-46ac-89b1-f7933c60dfbb",
   "metadata": {},
   "source": [
    "### List sites below"
   ]
  },
  {
   "cell_type": "code",
   "execution_count": 59,
   "id": "7359097e-18dc-4ef8-a2a9-369760b2a5be",
   "metadata": {},
   "outputs": [],
   "source": [
    "searchfor = ['02320700', '02321000', '02321500', '02321898', '02321900', '02321958',\n",
    " '02321975', '02322016', '02322049', '02322050', '02322500', '02322616',\n",
    " '02322700', '02322703', '02322800']"
   ]
  },
  {
   "cell_type": "markdown",
   "id": "506adf7f-22ab-44f4-865d-2a391397b8ba",
   "metadata": {},
   "source": [
    "### The box below pulls the data using a For-loop where it places each site number into the url, reads the html table, and stores the data in a Python dictionary. The dictionary is accessed using \"keys\" which are automatically stored as \"site_no_xxxxxxxx\"."
   ]
  },
  {
   "cell_type": "code",
   "execution_count": 60,
   "id": "34890915-329e-4d96-9ed3-9e8c29ad8ff9",
   "metadata": {},
   "outputs": [],
   "source": [
    "count = 0\n",
    "usgs_dict={}\n",
    "\n",
    "\n",
    "for i in range(len(usgs_sites_retrieve)):\n",
    "    usgs_site_no = usgs_sites_retrieve[i]\n",
    "    url = 'https://waterdata.usgs.gov/nwis/dv?referred_module=sw&search_site_no='+usgs_site_no+'&search_site_no_match_type=exact&site_tp_cd=OC&site_tp_cd=OC-CO&site_tp_cd=ES&site_tp_cd=LK&site_tp_cd=ST&site_tp_cd=ST-CA&site_tp_cd=ST-DCH&site_tp_cd=ST-TS&index_pmcode_00060=1&index_pmcode_00065=1&group_key=NONE&sitefile_output_format=html_table&column_name=agency_cd&column_name=site_no&column_name=station_nm&range_selection=date_range&begin_date=1980-01-01&end_date=2022-01-20&format=rdb&date_format=YYYY-MM-DD&rdb_compression=value&list_of_search_criteria=search_site_no%2Csite_tp_cd%2Crealtime_parameter_selection'\n",
    "    page = urllib.request.urlopen(url)\n",
    "    skiplines = str(page.read())\n",
    "    skiprow = skiplines.count('#')\n",
    "    usgs_site_data = pd.read_csv(url,sep='\\t',skiprows=skiprow)\n",
    "    usgs_site_data.drop([0],axis=0,inplace=True)\n",
    "    \n",
    "            \n",
    "            \n",
    "    \n",
    "    usgs_dict['site_no_'+str(usgs_site_no)] = usgs_site_data\n",
    "    count += 1\n"
   ]
  },
  {
   "cell_type": "code",
   "execution_count": null,
   "id": "5d120da1-1416-4ca6-b217-36b1e133675b",
   "metadata": {},
   "outputs": [],
   "source": []
  },
  {
   "cell_type": "code",
   "execution_count": null,
   "id": "2b7cffe1-ffeb-4b61-b4a8-03eef10cb78d",
   "metadata": {},
   "outputs": [],
   "source": []
  },
  {
   "cell_type": "markdown",
   "id": "3200db57-b6ed-4687-b1b4-8be774d65540",
   "metadata": {},
   "source": [
    "### Due to the USGS system of reporting data that I am referencing, the column headers were abstract and problematic. Each parameter has a unique identifier, there is a different identifier if it is mena, max, or min, and there is a separate column for reporting data quality / status. To combat this I used regex to extract the relevant information and title the columns automatically. This also must be performed in a loop."
   ]
  },
  {
   "cell_type": "code",
   "execution_count": 61,
   "id": "145da08c-b64c-4cff-97e3-1a8e6b2ae9e7",
   "metadata": {
    "tags": []
   },
   "outputs": [],
   "source": [
    "parm_codes=pd.read_csv(directory + 'SuwData/USGS_All_Parameter_Codes.csv', converters={'site_no':lambda x: str(x)})\n"
   ]
  },
  {
   "cell_type": "code",
   "execution_count": 62,
   "id": "d609ab13-3fb4-45ae-a50c-9b990084a80d",
   "metadata": {},
   "outputs": [
    {
     "name": "stdout",
     "output_type": "stream",
     "text": [
      "Keys: ['site_no_02320700', 'site_no_02321000', 'site_no_02321500', 'site_no_02321898', 'site_no_02321900', 'site_no_02321958', 'site_no_02321975', 'site_no_02322016', 'site_no_02322049', 'site_no_02322050', 'site_no_02322500', 'site_no_02322616', 'site_no_02322700', 'site_no_02322703', 'site_no_02322800']\n"
     ]
    }
   ],
   "source": [
    "'''header = usgs_dict['site_no_'+usgs_site_no+'_2001'].columns.values.tolist()\n",
    "header = pd.DataFrame(header,columns=['cols'])\n",
    "header = header.cols.str.extract(r'^\\w\\w\\w\\w\\w_([^_]+)_(.+)',expand=False)\n",
    "parm_codes=pd.read_csv('C:/Users/Robert.Taylor//pythoncode//parameter_cd_query.txt', skiprows=7, converters={'parm_cd':lambda x: str(x)})\n",
    "'''\n",
    "keys = list(usgs_dict)\n",
    "print('Keys: ' + str(keys))\n",
    "\n",
    "hdr = {}\n",
    "\n",
    "for x in range(len(usgs_dict)):\n",
    "    \n",
    "    header = usgs_dict[keys[x]].columns.values.tolist()\n",
    "    header = pd.DataFrame(header,columns=['cols'])\n",
    "    header = header.cols.str.extract(r'^\\w{3,8}_([^_]+)_(.+)',expand=False)\n",
    "    \n",
    "    for i in range(header.shape[0]):\n",
    "        for j in range(header.shape[1]):\n",
    "            if header.iloc[i,j] == '00001':\n",
    "                header.iloc[i,j] = ', Max value'\n",
    "            elif header.iloc[i,j] == '00002':\n",
    "                header.iloc[i,j] = ', Min value'\n",
    "            elif header.iloc[i,j] == '00003':\n",
    "                header.iloc[i,j] = ', Mean value'\n",
    "            elif header.iloc[i,j] == '00001_cd':\n",
    "                header.iloc[i,j] = ' Data status / quality'\n",
    "            elif header.iloc[i,j] == '00002_cd':\n",
    "                header.iloc[i,j] = ' Data status / quality'\n",
    "            elif header.iloc[i,j] == '00003_cd':\n",
    "                header.iloc[i,j] = ' Data status / quality'\n",
    "            elif pd.isna(header.iloc[i,j]) is False:\n",
    "                header.iloc[i,j] = parm_codes.loc[parm_codes['parm_cd'] == str(header.iloc[i,j])]['parm_desc'].values\n",
    "    \n",
    "    hdr[keys[x]] = header\n",
    "        \n",
    "\n",
    "for i in range(len(usgs_dict)):\n",
    "    hdr[keys[i]]['header'] = hdr[keys[i]][0].astype(str) + hdr[keys[i]][1].astype(str)\n",
    "    hdr[keys[i]] = hdr[keys[i]]['header']\n",
    "    hdr[keys[i]].iloc[0] = 'agency_cd'\n",
    "    hdr[keys[i]].iloc[1] = 'site_no'\n",
    "    hdr[keys[i]].iloc[2] = 'datetime'\n",
    "    \n",
    "\n",
    "#display(hdr[keys[0]].values.tolist())\n",
    "\n",
    "\n",
    "\n",
    "header_usgs = {}\n",
    "\n",
    "\n",
    "\n",
    "for i in range(len(usgs_dict)):\n",
    "    header_usgs[keys[i]] = usgs_dict[keys[i]].columns.values.tolist()\n",
    "    usgs_dict[keys[i]].columns = hdr[keys[i]].values \n",
    "    \n"
   ]
  },
  {
   "cell_type": "markdown",
   "id": "4fb32f12-6f0d-441d-be3d-db99d1087d2f",
   "metadata": {},
   "source": [
    "### Shown below is an example of the replaced column headers and associated data."
   ]
  },
  {
   "cell_type": "code",
   "execution_count": 67,
   "id": "8ef69b61-e328-4313-a978-6ac0c130da16",
   "metadata": {},
   "outputs": [
    {
     "data": {
      "text/html": [
       "<div>\n",
       "<style scoped>\n",
       "    .dataframe tbody tr th:only-of-type {\n",
       "        vertical-align: middle;\n",
       "    }\n",
       "\n",
       "    .dataframe tbody tr th {\n",
       "        vertical-align: top;\n",
       "    }\n",
       "\n",
       "    .dataframe thead th {\n",
       "        text-align: right;\n",
       "    }\n",
       "</style>\n",
       "<table border=\"1\" class=\"dataframe\">\n",
       "  <thead>\n",
       "    <tr style=\"text-align: right;\">\n",
       "      <th></th>\n",
       "      <th>Unnamed: 0</th>\n",
       "      <th>agency_cd</th>\n",
       "      <th>site_no</th>\n",
       "      <th>station_nm</th>\n",
       "      <th>site_tp_cd</th>\n",
       "      <th>dec_lat_va</th>\n",
       "      <th>dec_long_va</th>\n",
       "      <th>coord_acy_cd</th>\n",
       "      <th>dec_coord_datum_cd</th>\n",
       "      <th>alt_va</th>\n",
       "      <th>...</th>\n",
       "      <th>stat_cd</th>\n",
       "      <th>ts_id</th>\n",
       "      <th>loc_web_ds</th>\n",
       "      <th>medium_grp_cd</th>\n",
       "      <th>parm_grp_cd</th>\n",
       "      <th>srs_id</th>\n",
       "      <th>access_cd</th>\n",
       "      <th>begin_date</th>\n",
       "      <th>end_date</th>\n",
       "      <th>count_nu</th>\n",
       "    </tr>\n",
       "  </thead>\n",
       "  <tbody>\n",
       "  </tbody>\n",
       "</table>\n",
       "<p>0 rows × 25 columns</p>\n",
       "</div>"
      ],
      "text/plain": [
       "Empty DataFrame\n",
       "Columns: [Unnamed: 0, agency_cd, site_no, station_nm, site_tp_cd, dec_lat_va, dec_long_va, coord_acy_cd, dec_coord_datum_cd, alt_va, alt_acy_va, alt_datum_cd, huc_cd, data_type_cd, parm_cd, stat_cd, ts_id, loc_web_ds, medium_grp_cd, parm_grp_cd, srs_id, access_cd, begin_date, end_date, count_nu]\n",
       "Index: []\n",
       "\n",
       "[0 rows x 25 columns]"
      ]
     },
     "execution_count": 67,
     "metadata": {},
     "output_type": "execute_result"
    }
   ],
   "source": [
    "usgs_meta_df = pd.read_csv(directory+'/SuwData/USGS_All_Sites_In_Basin.csv')\n",
    "#site_nm_df = usgs_meta_df.loc[usgs_meta_df['site_no']==searchfor]\n",
    "#site_nm_df = np.where(usgs_meta_df['site_no']==searchfor)\n",
    "site_nm_df = usgs_meta_df.loc[usgs_meta_df['site_no'].isin(searchfor)]\n",
    "site_nm_df\n",
    "#usgs_meta_df['site_no']\n",
    "#avail_parm_codes_stream = np.where(usgs_parm_codes_df['parm_cd'].isin(num_parms))\n",
    "#avail_parms = usgs_parm_codes_df.loc[usgs_parm_codes_df['parm_cd'] == num_parms]\n",
    "#site_nm_df"
   ]
  },
  {
   "cell_type": "markdown",
   "id": "6befbc69-6fd7-40c8-9e3e-22b0e6574595",
   "metadata": {},
   "source": [
    "### The following box saves each site's data as a csv in the previously designated folder."
   ]
  },
  {
   "cell_type": "code",
   "execution_count": 68,
   "id": "ce3637a0-bef4-4a57-b2fb-9dfb9c5de1d3",
   "metadata": {
    "tags": []
   },
   "outputs": [],
   "source": [
    "for i in range(len(usgs_dict)):\n",
    "    #usgs_dict[keys[i]] = id_search_results_usgs.merge(usgs_dict[keys[i]],on='site_no')\n",
    "    #usgs_dict[keys[i]] = usgs_dict[keys[i]].merge(id_search_results_usgs,on='site_no')\n",
    "    usgs_dict[keys[i]].to_csv(directory+'/SuwData//USGS_'+keys[i]+'_data.csv')"
   ]
  },
  {
   "cell_type": "markdown",
   "id": "cd0b86fa-abdc-4122-82ea-29e4aae72786",
   "metadata": {},
   "source": []
  }
 ],
 "metadata": {
  "kernelspec": {
   "display_name": "Python 3",
   "language": "python",
   "name": "python3"
  },
  "language_info": {
   "codemirror_mode": {
    "name": "ipython",
    "version": 3
   },
   "file_extension": ".py",
   "mimetype": "text/x-python",
   "name": "python",
   "nbconvert_exporter": "python",
   "pygments_lexer": "ipython3",
   "version": "3.9.5"
  }
 },
 "nbformat": 4,
 "nbformat_minor": 5
}
